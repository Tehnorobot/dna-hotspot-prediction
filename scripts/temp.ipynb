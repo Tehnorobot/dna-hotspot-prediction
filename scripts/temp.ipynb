{
 "cells": [
  {
   "cell_type": "code",
   "execution_count": 1,
   "id": "edd4a0a2",
   "metadata": {},
   "outputs": [],
   "source": [
    "import pandas as pd"
   ]
  },
  {
   "cell_type": "code",
   "execution_count": 6,
   "id": "5ccbde5c",
   "metadata": {},
   "outputs": [],
   "source": [
    "data = pd.read_csv(\"/media/hdd/hackaton25/team2/pipeline/data/data/normal_matrix_with_seqs.tsv\", sep='\\t')"
   ]
  },
  {
   "cell_type": "code",
   "execution_count": 8,
   "id": "70859f3b",
   "metadata": {},
   "outputs": [
    {
     "data": {
      "text/plain": [
       "Index(['transcript_id', 'SRR8173210', 'SRR11786140', 'SRR11786139',\n",
       "       'SRR11786138', 'SRR11786137', 'SRR11213546', 'SRR11213547',\n",
       "       'SRR11213544', 'SRR11213545', 'SRR11213543', 'SRR11213542',\n",
       "       'SRR11213541', 'SRR11213540', 'SRR10857534', 'SRR10857533',\n",
       "       'SRR10189630', 'SRR10189629', 'SRR10189628', 'SRR10189627',\n",
       "       'SRR9948683', 'SRR9948682', 'SRR9948681', 'SRR9948680', 'SRR9948679',\n",
       "       'SRR9948678', 'SRR9126592', 'SRR13771193', 'SRR13771194', 'SRR17278608',\n",
       "       'SRR17278609', 'SRR17278612', 'SRR17278613', 'SRR13856144',\n",
       "       'SRR13856143', 'SRR13856142', 'SRR20681633', 'SRR30863167',\n",
       "       'SRR30863168', 'SRR30863169', 'SRR30863170', 'SRR30863171',\n",
       "       'SRR30863172', 'SRR30863173', 'SRR30863174', 'SRR30863175',\n",
       "       'SRR29660744', 'SRR29660745', 'SRR29660746', 'SRR29660747',\n",
       "       'SRR29660748', 'SRR29660749', 'SRR22955230', 'SRR22955231',\n",
       "       'SRR22955232', 'SRR22955233', 'SRR22955234', 'SRR22955235',\n",
       "       'SRR22955236', 'SRR22955237', 'SRR22955238', 'SRR22955239',\n",
       "       'SRR22955240', 'SRR22955241', 'SRR22955242', 'SRR22955243',\n",
       "       'SRR22955244', 'SRR22955245', 'SRR22955246', 'SRR22955247',\n",
       "       'SRR22955248', 'SRR22955249', 'SRR22955250', 'SRR22955251',\n",
       "       'SRR22955252', 'SRR22955253', 'SRR22955254', 'SRR22955255',\n",
       "       'SRR22955256', 'SRR22955257', 'SRR22955258', 'SRR22955259',\n",
       "       'SRR22955260', 'SRR22955261', 'SRR22955262', 'SRR22955263',\n",
       "       'SRR22955264', 'SRR22955265', 'SRR22955266', 'SRR22955267',\n",
       "       'SRR22955268', 'SRR22955269', 'gene_genomic_seq'],\n",
       "      dtype='object')"
      ]
     },
     "execution_count": 8,
     "metadata": {},
     "output_type": "execute_result"
    }
   ],
   "source": [
    "data.columns"
   ]
  }
 ],
 "metadata": {
  "kernelspec": {
   "display_name": "biobrokers",
   "language": "python",
   "name": "python3"
  },
  "language_info": {
   "codemirror_mode": {
    "name": "ipython",
    "version": 3
   },
   "file_extension": ".py",
   "mimetype": "text/x-python",
   "name": "python",
   "nbconvert_exporter": "python",
   "pygments_lexer": "ipython3",
   "version": "3.10.13"
  }
 },
 "nbformat": 4,
 "nbformat_minor": 5
}
